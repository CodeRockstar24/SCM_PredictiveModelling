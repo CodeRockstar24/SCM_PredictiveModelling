{
 "cells": [
  {
   "cell_type": "code",
   "execution_count": 1,
   "id": "1a9c8e79",
   "metadata": {},
   "outputs": [
    {
     "name": "stdout",
     "output_type": "stream",
     "text": [
      "Collecting faker\n",
      "  Downloading faker-37.5.3-py3-none-any.whl.metadata (15 kB)\n",
      "Requirement already satisfied: tzdata in c:\\users\\elroy\\anaconda3\\envs\\myenv\\lib\\site-packages (from faker) (2024.1)\n",
      "Downloading faker-37.5.3-py3-none-any.whl (1.9 MB)\n",
      "   ---------------------------------------- 0.0/1.9 MB ? eta -:--:--\n",
      "   ---------------------------------------- 0.0/1.9 MB ? eta -:--:--\n",
      "    --------------------------------------- 0.0/1.9 MB 640.0 kB/s eta 0:00:03\n",
      "   ---------- ----------------------------- 0.5/1.9 MB 5.2 MB/s eta 0:00:01\n",
      "   ---------------------------------- ----- 1.7/1.9 MB 13.5 MB/s eta 0:00:01\n",
      "   ---------------------------------------- 1.9/1.9 MB 11.3 MB/s eta 0:00:00\n",
      "Installing collected packages: faker\n",
      "Successfully installed faker-37.5.3\n",
      "Note: you may need to restart the kernel to use updated packages.\n"
     ]
    }
   ],
   "source": [
    "%pip install faker"
   ]
  },
  {
   "cell_type": "code",
   "execution_count": 2,
   "id": "c91d9223",
   "metadata": {},
   "outputs": [
    {
     "name": "stdout",
     "output_type": "stream",
     "text": [
      "Dataset generated: 239020 rows, 15 columns, saved as 'ecommerce_supply_chain.csv'\n"
     ]
    }
   ],
   "source": [
    "import pandas as pd\n",
    "import numpy as np\n",
    "from faker import Faker\n",
    "import random\n",
    "from datetime import datetime, timedelta\n",
    "\n",
    "# Initialize Faker\n",
    "fake = Faker()\n",
    "\n",
    "# Parameters\n",
    "num_products = 380\n",
    "num_customers = 50\n",
    "\n",
    "# E-commerce categories, suppliers, and products\n",
    "ecom_categories = [\n",
    "    \"Electronics\", \"Home & Kitchen\", \"Fashion\", \"Sports & Outdoors\",\n",
    "    \"Books\", \"Beauty & Personal Care\", \"Toys & Games\", \"Pet Supplies\",\n",
    "    \"Automotive\", \"Office Products\"\n",
    "]\n",
    "\n",
    "ecom_suppliers = [\n",
    "    \"AmazonBasics\", \"Sony\", \"Samsung\", \"Nike\", \"Adidas\", \"Apple\",\n",
    "    \"Microsoft\", \"Lenovo\", \"Puma\", \"Philips\", \"LG\", \"HP\"\n",
    "]\n",
    "\n",
    "ecom_products = [\n",
    "    \"Wireless Earbuds\", \"Smartphone\", \"Laptop\", \"Bluetooth Speaker\", \"Gaming Mouse\",\n",
    "    \"Air Fryer\", \"Coffee Maker\", \"Vacuum Cleaner\", \"Backpack\", \"Running Shoes\",\n",
    "    \"Wrist Watch\", \"Sunglasses\", \"Yoga Mat\", \"Board Game\", \"Pet Food\",\n",
    "    \"Car Phone Mount\", \"Desk Lamp\", \"External Hard Drive\", \"Water Bottle\", \"E-reader\"\n",
    "]\n",
    "\n",
    "# Warehouse locations\n",
    "warehouses = [\"Dubai\", \"Abu Dhabi\", \"Sharjah\", \"Riyadh\", \"Jeddah\", \"Doha\"]\n",
    "\n",
    "# Generate product details\n",
    "products = []\n",
    "for i in range(num_products):\n",
    "    sku = f\"SKU-{1000 + i}\"\n",
    "    products.append({\n",
    "        \"SKU\": sku,\n",
    "        \"Product_Family_Name\": random.choice(ecom_products),\n",
    "        \"Category\": random.choice(ecom_categories),\n",
    "        \"Supplier\": random.choice(ecom_suppliers),\n",
    "        \"Price_per_Unit (USD)\": round(random.uniform(5, 500), 2)\n",
    "    })\n",
    "\n",
    "products_df = pd.DataFrame(products)\n",
    "\n",
    "# Generate customers\n",
    "customers = [f\"Customer-{str(i+1).zfill(3)}\" for i in range(num_customers)]\n",
    "high_volume_customers = random.sample(customers, int(num_customers * 0.3))\n",
    "low_volume_customers = list(set(customers) - set(high_volume_customers))\n",
    "\n",
    "# Time series: ~250k rows\n",
    "start_date = datetime(2023, 11, 15)\n",
    "end_date = datetime(2025, 8, 5)\n",
    "num_days = (end_date - start_date).days\n",
    "\n",
    "sales_data = []\n",
    "for i in range(num_days):\n",
    "    current_date = start_date + timedelta(days=i)\n",
    "    for product in products:\n",
    "        sku = product[\"SKU\"]\n",
    "        stock_level = max(10, int(np.random.normal(500, 100)))\n",
    "        \n",
    "        # Seasonal demand patterns\n",
    "        if hash(sku) % 3 == 0:\n",
    "            seasonal_factor = 1.8 if current_date.month in [11, 12, 1] else 0.6\n",
    "        elif hash(sku) % 3 == 1:\n",
    "            seasonal_factor = 1.5 if current_date.month in [6, 7] else 0.8\n",
    "        else:\n",
    "            seasonal_factor = 1.2 if current_date.month in [8, 9] else 1.0\n",
    "        \n",
    "        # Trend factor\n",
    "        trend_factor = 1 + (i / num_days) * 0.1\n",
    "        base_sales = max(10, int(np.random.normal(50, 10)))\n",
    "        sales_quantity = int(base_sales * seasonal_factor * trend_factor)\n",
    "        \n",
    "        # Customer effect\n",
    "        if random.random() < 0.7:\n",
    "            customer_id = random.choice(low_volume_customers)\n",
    "            sales_quantity = int(sales_quantity * 0.5)\n",
    "        else:\n",
    "            customer_id = random.choice(high_volume_customers)\n",
    "            sales_quantity = int(sales_quantity * 1.5)\n",
    "        \n",
    "        # Extra features\n",
    "        discount = round(random.choice([0, 5, 10, 15, 20]), 2)  # %\n",
    "        return_qty = int(sales_quantity * random.choice([0, 0.01, 0.02, 0.05]))  # up to 5%\n",
    "        shipping_cost = round(random.uniform(2, 20), 2)  # USD\n",
    "        warehouse = random.choice(warehouses)\n",
    "        \n",
    "        # Revenue & lead time\n",
    "        revenue = round(sales_quantity * product[\"Price_per_Unit (USD)\"] * (1 - discount/100), 2)\n",
    "        lead_time = random.choice([1, 2, 3, 5, 7, 10])\n",
    "        \n",
    "        sales_data.append({\n",
    "            \"Date\": current_date.strftime(\"%Y-%m-%d\"),\n",
    "            \"SKU\": sku,\n",
    "            \"Customer ID\": customer_id,\n",
    "            \"Stock Level\": stock_level,\n",
    "            \"Sales Quantity\": sales_quantity,  # ✅ Target column for demand forecasting\n",
    "            \"Revenue (USD)\": revenue,\n",
    "            \"Lead Time (days)\": lead_time,\n",
    "            \"Discount Applied (%)\": discount,\n",
    "            \"Return Quantity\": return_qty,\n",
    "            \"Shipping Cost (USD)\": shipping_cost,\n",
    "            \"Warehouse Location\": warehouse\n",
    "        })\n",
    "\n",
    "# Merge sales and product details\n",
    "sales_df = pd.DataFrame(sales_data)\n",
    "full_dataset = sales_df.merge(products_df, on=\"SKU\")\n",
    "\n",
    "# Save dataset\n",
    "full_dataset.to_csv(\"ecommerce_supply_chain.csv\", index=False)\n",
    "print(f\"Dataset generated: {full_dataset.shape[0]} rows, {full_dataset.shape[1]} columns, saved as 'ecommerce_supply_chain.csv'\")\n"
   ]
  },
  {
   "cell_type": "code",
   "execution_count": 3,
   "id": "8cc5e7da",
   "metadata": {},
   "outputs": [
    {
     "name": "stdout",
     "output_type": "stream",
     "text": [
      "['Date', 'SKU', 'Customer ID', 'Stock Level', 'Sales Quantity', 'Revenue (USD)', 'Lead Time (days)', 'Discount Applied (%)', 'Return Quantity', 'Shipping Cost (USD)', 'Warehouse Location', 'Product_Family_Name', 'Category', 'Supplier', 'Price_per_Unit (USD)']\n"
     ]
    }
   ],
   "source": [
    "import pandas as pd\n",
    "\n",
    "df = pd.read_csv(r\"C:\\Users\\elroy\\OneDrive\\Desktop\\Supplychain\\ecommerce_supply_chain.csv\")\n",
    "print(df.columns.tolist())\n"
   ]
  }
 ],
 "metadata": {
  "kernelspec": {
   "display_name": "myenv",
   "language": "python",
   "name": "python3"
  },
  "language_info": {
   "codemirror_mode": {
    "name": "ipython",
    "version": 3
   },
   "file_extension": ".py",
   "mimetype": "text/x-python",
   "name": "python",
   "nbconvert_exporter": "python",
   "pygments_lexer": "ipython3",
   "version": "3.12.2"
  }
 },
 "nbformat": 4,
 "nbformat_minor": 5
}
